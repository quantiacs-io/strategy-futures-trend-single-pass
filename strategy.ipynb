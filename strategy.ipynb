{
 "cells": [
  {
   "cell_type": "markdown",
   "metadata": {},
   "source": [
    "# A Basic Trend-Following System for Futures (Single Pass)"
   ]
  },
  {
   "cell_type": "markdown",
   "metadata": {},
   "source": [
    "In this notebook we show a very simple strategy based on the crossing of two moving averages. The strategy can be used as starting point for developing more complex approaches. We use a fast single-pass implementation which however can lead to unintentional looking forward."
   ]
  },
  {
   "cell_type": "code",
   "execution_count": null,
   "metadata": {},
   "outputs": [],
   "source": [
    "%%javascript\n",
    "IPython.OutputArea.prototype._should_scroll = function(lines) { return false; }\n",
    "// disable widget scrolling"
   ]
  },
  {
   "cell_type": "markdown",
   "metadata": {},
   "source": [
    "We work with complete time series and define allocation weights at once for all points in time. The computation is fast but, since the time series is processed in a single pass, forward looking can occur. Note that the performace of this system is not so good as the Sharpe ratio is negative. If you can write a system with a Sharpe ratio larger than 1, save your result and click on the **Submit** button in your **Development** area! Do not forget the final call to the **write** function as in this example."
   ]
  },
  {
   "cell_type": "code",
   "execution_count": 3,
   "metadata": {},
   "outputs": [
    {
     "name": "stdout",
     "output_type": "stream",
     "text": [
      "ffill if the current price is None...\n",
      "Check missed dates...\n",
      "Ok.\n",
      "Normalization...\n",
      "Done.\n"
     ]
    },
    {
     "data": {
      "text/html": [
       "<div>\n",
       "<style scoped>\n",
       "    .dataframe tbody tr th:only-of-type {\n",
       "        vertical-align: middle;\n",
       "    }\n",
       "\n",
       "    .dataframe tbody tr th {\n",
       "        vertical-align: top;\n",
       "    }\n",
       "\n",
       "    .dataframe thead th {\n",
       "        text-align: right;\n",
       "    }\n",
       "</style>\n",
       "<table border=\"1\" class=\"dataframe\">\n",
       "  <thead>\n",
       "    <tr style=\"text-align: right;\">\n",
       "      <th>field</th>\n",
       "      <th>equity</th>\n",
       "      <th>relative_return</th>\n",
       "      <th>volatility</th>\n",
       "      <th>underwater</th>\n",
       "      <th>max_drawdown</th>\n",
       "      <th>sharpe_ratio</th>\n",
       "      <th>mean_return</th>\n",
       "      <th>bias</th>\n",
       "      <th>instruments</th>\n",
       "      <th>avg_turnover</th>\n",
       "      <th>avg_holding_time</th>\n",
       "    </tr>\n",
       "    <tr>\n",
       "      <th>time</th>\n",
       "      <th></th>\n",
       "      <th></th>\n",
       "      <th></th>\n",
       "      <th></th>\n",
       "      <th></th>\n",
       "      <th></th>\n",
       "      <th></th>\n",
       "      <th></th>\n",
       "      <th></th>\n",
       "      <th></th>\n",
       "      <th></th>\n",
       "    </tr>\n",
       "  </thead>\n",
       "  <tbody>\n",
       "    <tr>\n",
       "      <th>2021-02-24</th>\n",
       "      <td>0.918461</td>\n",
       "      <td>0.007571</td>\n",
       "      <td>0.070674</td>\n",
       "      <td>-0.326929</td>\n",
       "      <td>-0.379692</td>\n",
       "      <td>-0.076930</td>\n",
       "      <td>-0.005437</td>\n",
       "      <td>0.626667</td>\n",
       "      <td>75.0</td>\n",
       "      <td>0.022287</td>\n",
       "      <td>146.617463</td>\n",
       "    </tr>\n",
       "    <tr>\n",
       "      <th>2021-02-25</th>\n",
       "      <td>0.911886</td>\n",
       "      <td>-0.007159</td>\n",
       "      <td>0.070688</td>\n",
       "      <td>-0.331748</td>\n",
       "      <td>-0.379692</td>\n",
       "      <td>-0.083371</td>\n",
       "      <td>-0.005893</td>\n",
       "      <td>0.626667</td>\n",
       "      <td>75.0</td>\n",
       "      <td>0.022293</td>\n",
       "      <td>146.593702</td>\n",
       "    </tr>\n",
       "    <tr>\n",
       "      <th>2021-02-26</th>\n",
       "      <td>0.903024</td>\n",
       "      <td>-0.009719</td>\n",
       "      <td>0.070721</td>\n",
       "      <td>-0.338242</td>\n",
       "      <td>-0.379692</td>\n",
       "      <td>-0.092102</td>\n",
       "      <td>-0.006514</td>\n",
       "      <td>0.653333</td>\n",
       "      <td>75.0</td>\n",
       "      <td>0.022290</td>\n",
       "      <td>146.593702</td>\n",
       "    </tr>\n",
       "    <tr>\n",
       "      <th>2021-03-01</th>\n",
       "      <td>0.906433</td>\n",
       "      <td>0.003776</td>\n",
       "      <td>0.070719</td>\n",
       "      <td>-0.335743</td>\n",
       "      <td>-0.379692</td>\n",
       "      <td>-0.088690</td>\n",
       "      <td>-0.006272</td>\n",
       "      <td>0.653333</td>\n",
       "      <td>75.0</td>\n",
       "      <td>0.022294</td>\n",
       "      <td>146.541332</td>\n",
       "    </tr>\n",
       "    <tr>\n",
       "      <th>2021-03-02</th>\n",
       "      <td>0.908188</td>\n",
       "      <td>0.001936</td>\n",
       "      <td>0.070712</td>\n",
       "      <td>-0.334457</td>\n",
       "      <td>-0.379692</td>\n",
       "      <td>-0.086936</td>\n",
       "      <td>-0.006147</td>\n",
       "      <td>0.653333</td>\n",
       "      <td>75.0</td>\n",
       "      <td>0.022291</td>\n",
       "      <td>147.231469</td>\n",
       "    </tr>\n",
       "  </tbody>\n",
       "</table>\n",
       "</div>"
      ],
      "text/plain": [
       "field         equity  relative_return  volatility  underwater  max_drawdown  \\\n",
       "time                                                                          \n",
       "2021-02-24  0.918461         0.007571    0.070674   -0.326929     -0.379692   \n",
       "2021-02-25  0.911886        -0.007159    0.070688   -0.331748     -0.379692   \n",
       "2021-02-26  0.903024        -0.009719    0.070721   -0.338242     -0.379692   \n",
       "2021-03-01  0.906433         0.003776    0.070719   -0.335743     -0.379692   \n",
       "2021-03-02  0.908188         0.001936    0.070712   -0.334457     -0.379692   \n",
       "\n",
       "field       sharpe_ratio  mean_return      bias  instruments  avg_turnover  \\\n",
       "time                                                                         \n",
       "2021-02-24     -0.076930    -0.005437  0.626667         75.0      0.022287   \n",
       "2021-02-25     -0.083371    -0.005893  0.626667         75.0      0.022293   \n",
       "2021-02-26     -0.092102    -0.006514  0.653333         75.0      0.022290   \n",
       "2021-03-01     -0.088690    -0.006272  0.653333         75.0      0.022294   \n",
       "2021-03-02     -0.086936    -0.006147  0.653333         75.0      0.022291   \n",
       "\n",
       "field       avg_holding_time  \n",
       "time                          \n",
       "2021-02-24        146.617463  \n",
       "2021-02-25        146.593702  \n",
       "2021-02-26        146.593702  \n",
       "2021-03-01        146.541332  \n",
       "2021-03-02        147.231469  "
      ]
     },
     "metadata": {},
     "output_type": "display_data"
    },
    {
     "name": "stdout",
     "output_type": "stream",
     "text": [
      "Check missed dates...\n",
      "Ok.\n",
      "Check the sharpe ratio...\n"
     ]
    },
    {
     "name": "stderr",
     "output_type": "stream",
     "text": [
      "WARNING! There are not enough points in the data for the slippage calculation.\n",
      "Add 15 extra data points to the data head.\n"
     ]
    },
    {
     "name": "stdout",
     "output_type": "stream",
     "text": [
      "Period: 2006-01-02 - 2021-03-02\n",
      "Sharpe Ratio = -0.08813261523998807\n"
     ]
    },
    {
     "name": "stderr",
     "output_type": "stream",
     "text": [
      "ERROR! The sharpe ratio is too low. -0.08813261523998807 < 1\n"
     ]
    },
    {
     "name": "stdout",
     "output_type": "stream",
     "text": [
      "Check correlation.\n",
      "\n"
     ]
    },
    {
     "name": "stderr",
     "output_type": "stream",
     "text": [
      "WARNING! This strategy correlates with other strategies.\n"
     ]
    },
    {
     "name": "stdout",
     "output_type": "stream",
     "text": [
      "The number of systems with a larger Sharpe ratio and correlation larger than 0.9: 2\n",
      "The max correlation value (with systems with a larger Sharpe ratio): 0.9999999999999999\n",
      "Current sharpe ratio(3y): -0.912110593158235\n",
      "\n",
      "Write output: /root/fractions.nc.gz\n"
     ]
    }
   ],
   "source": [
    "import xarray as xr\n",
    "\n",
    "import qnt.ta as qnta\n",
    "import qnt.stats as qnstats\n",
    "import qnt.data as qndata\n",
    "import qnt.output as qnout\n",
    "\n",
    "# load data:\n",
    "data = qndata.futures.load_data(min_date=\"2006-01-01\")\n",
    "\n",
    "# calc weights:\n",
    "close = data.sel(field=\"close\")\n",
    "ma_slow = qnta.ema(close, periods=200, warm_periods=20)\n",
    "ma_fast = qnta.ema(close, periods=50, warm_periods=10)\n",
    "weights = xr.where(ma_fast > ma_slow, 1, -1)\n",
    "\n",
    "# normalize if total exposure is larger>1 and fill missing values:\n",
    "weights = qnout.clean(weights, data)\n",
    "\n",
    "# calc stats (can be commented for submission):\n",
    "stats = qnstats.calc_stat(data, weights.sel(time=slice(\"2006-01-01\", None)))\n",
    "display(stats.to_pandas().tail())\n",
    "\n",
    "# check that weights are correct:\n",
    "qnout.check(weights, data)\n",
    "\n",
    "# write results, necessary for submission:\n",
    "qnout.write(weights)\n"
   ]
  },
  {
   "cell_type": "markdown",
   "metadata": {},
   "source": [
    "# Multi Pass analog\n",
    "\n",
    "\n",
    "We use a multi-pass implementation which forbids forward looking and can be used for testing your idea.\n",
    "\n",
    "We define a wrapper function for loading the data, and implement our strategy inside a function which returns allocation weights for a given point in time. Then we call the built-in backtesting function and perform the simulation avoiding potential looking-forward issues"
   ]
  },
  {
   "cell_type": "markdown",
   "metadata": {},
   "source": [
    "```python\n",
    "import xarray as xr\n",
    "\n",
    "import qnt.ta as qnta\n",
    "import qnt.backtester as qnbt\n",
    "import qnt.data as qndata\n",
    "\n",
    "\n",
    "def load_data(period):\n",
    "    \"\"\"Loads futures markets for the Classic Futures contest\"\"\"\n",
    "    return qndata.futures.load_data(tail=period, dims=(\"time\", \"field\", \"asset\"))\n",
    "\n",
    "\n",
    "def strategy(data):\n",
    "    close = data.sel(field=\"close\")\n",
    "    ma_slow = qnta.ema(close, periods=200, warm_periods=20).isel(time=-1)\n",
    "    ma_fast = qnta.ema(close, periods=50, warm_periods=10).isel(time=-1)\n",
    "    return xr.where(ma_fast > ma_slow, 1, -1)\n",
    "\n",
    "\n",
    "weights = qnbt.backtest(\n",
    "    # Classic Futures contest:\n",
    "    competition_type=\"futures\",\n",
    "    load_data=load_data,\n",
    "    lookback_period=365,\n",
    "    start_date=\"2006-01-01\",\n",
    "    strategy=strategy,\n",
    "    analyze=True,\n",
    "    build_plots=True\n",
    ")\n",
    "```"
   ]
  }
 ],
 "metadata": {
  "kernelspec": {
   "display_name": "Python 3",
   "language": "python",
   "name": "python3"
  },
  "language_info": {
   "codemirror_mode": {
    "name": "ipython",
    "version": 3
   },
   "file_extension": ".py",
   "mimetype": "text/x-python",
   "name": "python",
   "nbconvert_exporter": "python",
   "pygments_lexer": "ipython3",
   "version": "3.7.9"
  }
 },
 "nbformat": 4,
 "nbformat_minor": 4
}
