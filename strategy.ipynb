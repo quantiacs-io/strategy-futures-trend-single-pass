{
 "cells": [
  {
   "cell_type": "markdown",
   "metadata": {},
   "source": [
    "# A Basic Trend-Following System for Futures (Single Pass)"
   ]
  },
  {
   "cell_type": "markdown",
   "metadata": {},
   "source": [
    "In this notebook we show a very simple strategy based on the crossing of two moving averages. The strategy can be used as starting point for developing more complex approaches. We use a fast single-pass implementation which however can lead to unintentional looking forward."
   ]
  },
  {
   "cell_type": "code",
   "execution_count": null,
   "metadata": {},
   "outputs": [],
   "source": [
    "%%javascript\n",
    "IPython.OutputArea.prototype._should_scroll = function(lines) { return false; }\n",
    "// disable widget scrolling"
   ]
  },
  {
   "cell_type": "markdown",
   "metadata": {},
   "source": [
    "We work with complete time series and define allocation weights at once for all points in time. The computation is fast but, since the time series is processed in a single pass, forward looking can occur. Note that the performace of this system is not so good as the Sharpe ratio is negative. If you can write a system with a Sharpe ratio larger than 1, save your result and click on the **Submit** button in your **Development** area! Do not forget the final call to the **write** function as in this example."
   ]
  },
  {
   "cell_type": "code",
   "execution_count": null,
   "metadata": {},
   "outputs": [],
   "source": [
    "import xarray as xr\n",
    "\n",
    "import qnt.ta as qnta\n",
    "import qnt.stats as qnstats\n",
    "import qnt.data as qndata\n",
    "import qnt.output as qnout\n",
    "\n",
    "# load data:\n",
    "data = qndata.futures.load_data(min_date=\"2006-01-01\")\n",
    "\n",
    "# calc weights:\n",
    "close = data.sel(field=\"close\")\n",
    "ma_slow = qnta.ema(close, periods=200, warm_periods=20)\n",
    "ma_fast = qnta.ema(close, periods=50, warm_periods=10)\n",
    "weights = xr.where(ma_fast > ma_slow, 1, -1)\n",
    "\n",
    "# normalize if total exposure is larger>1 and fill missing values:\n",
    "weights = qnout.clean(weights, data)\n",
    "\n",
    "# calc stats (can be commented for submission):\n",
    "stats = qnstats.calc_stat(data, weights.sel(time=slice(\"2006-01-01\", None)))\n",
    "display(stats.to_pandas().tail())\n",
    "\n",
    "# check that weights are correct:\n",
    "qnout.check(weights, data)\n",
    "\n",
    "# write results, necessary for submission:\n",
    "qnout.write(weights)\n"
   ]
  },
  {
   "cell_type": "markdown",
   "metadata": {},
   "source": [
    "# Multi Pass analog\n",
    "\n",
    "\n",
    "We use a multi-pass implementation which forbids forward looking and can be used for testing your idea.\n",
    "\n",
    "We define a wrapper function for loading the data, and implement our strategy inside a function which returns allocation weights for a given point in time. Then we call the built-in backtesting function and perform the simulation avoiding potential looking-forward issues"
   ]
  },
  {
   "cell_type": "markdown",
   "metadata": {},
   "source": [
    "```python\n",
    "import xarray as xr\n",
    "\n",
    "import qnt.ta as qnta\n",
    "import qnt.backtester as qnbt\n",
    "import qnt.data as qndata\n",
    "\n",
    "\n",
    "def load_data(period):\n",
    "    \"\"\"Loads futures markets for the Classic Futures contest\"\"\"\n",
    "    return qndata.futures.load_data(tail=period, dims=(\"time\", \"field\", \"asset\"))\n",
    "\n",
    "\n",
    "def strategy(data):\n",
    "    close = data.sel(field=\"close\")\n",
    "    ma_slow = qnta.ema(close, periods=200, warm_periods=20).isel(time=-1)\n",
    "    ma_fast = qnta.ema(close, periods=50, warm_periods=10).isel(time=-1)\n",
    "    return xr.where(ma_fast > ma_slow, 1, -1)\n",
    "\n",
    "\n",
    "weights = qnbt.backtest(\n",
    "    # Classic Futures contest:\n",
    "    competition_type=\"futures\",\n",
    "    load_data=load_data,\n",
    "    lookback_period=365,\n",
    "    start_date=\"2006-01-01\",\n",
    "    strategy=strategy,\n",
    "    analyze=True,\n",
    "    build_plots=True\n",
    ")\n",
    "```"
   ]
  }
 ],
 "metadata": {
  "kernelspec": {
   "display_name": "Python 3",
   "language": "python",
   "name": "python3"
  },
  "language_info": {
   "codemirror_mode": {
    "name": "ipython",
    "version": 3
   },
   "file_extension": ".py",
   "mimetype": "text/x-python",
   "name": "python",
   "nbconvert_exporter": "python",
   "pygments_lexer": "ipython3",
   "version": "3.7.9"
  }
 },
 "nbformat": 4,
 "nbformat_minor": 4
}
